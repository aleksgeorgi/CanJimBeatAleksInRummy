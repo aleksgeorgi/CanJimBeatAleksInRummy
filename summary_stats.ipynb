{
 "cells": [
  {
   "cell_type": "code",
   "execution_count": 4,
   "metadata": {},
   "outputs": [],
   "source": [
    "from db_utils import get_all_data, convert_fetched_data_to_df\n",
    "import pandas as pd"
   ]
  },
  {
   "cell_type": "markdown",
   "metadata": {},
   "source": [
    "# load the data"
   ]
  },
  {
   "cell_type": "code",
   "execution_count": 5,
   "metadata": {},
   "outputs": [
    {
     "name": "stdout",
     "output_type": "stream",
     "text": [
      "    id  game_number  jim_score  aleks_score  jim_running_sum  \\\n",
      "0    1            1        -68          110              -68   \n",
      "1    2            2         83           94               15   \n",
      "2    3            3        -62          114              -47   \n",
      "3    4            4        142           23               95   \n",
      "4    5            5        112           29              207   \n",
      "5    6            6        -54           80              153   \n",
      "6    7            7         94           44              247   \n",
      "7    8            8         59           51              306   \n",
      "8    9            9         73           96              379   \n",
      "9   10           10        100          145              479   \n",
      "10  11           12         97           -7              576   \n",
      "11  12           13         84           11              660   \n",
      "12  13           14        -56           35              604   \n",
      "13  14           15         58           39              662   \n",
      "14  15           16         92           28              754   \n",
      "15  16           17        118            2              872   \n",
      "16  17           18        119           26              991   \n",
      "17  18           19        -59           98              932   \n",
      "18  19           20          4           69              936   \n",
      "19  20           21         63           57              999   \n",
      "20  21           22        104           48             1103   \n",
      "21  22           23         74           98             1177   \n",
      "22  23           24        112           61             1289   \n",
      "23  24           25         79          133             1368   \n",
      "24  25           26         94          -15             1462   \n",
      "25  26           27        119            8             1581   \n",
      "26  27           28         84          118             1665   \n",
      "27  28           29         12           41             1677   \n",
      "28  29           30        104           14             1781   \n",
      "29  30           31        104           64             1885   \n",
      "30  31           32        104           52             1989   \n",
      "31  32           33         64          104             2053   \n",
      "32  33           34          1          110             2054   \n",
      "33  34           35        101            1             2155   \n",
      "34  35           36        136          -33             2291   \n",
      "35  36           37         94          -43             2385   \n",
      "36  37           38        104           -1             2489   \n",
      "37  38           39         87           16             2576   \n",
      "38  39           40        -66          112             2510   \n",
      "39  40           41         88           49             2598   \n",
      "40  41           42         89          -70             2687   \n",
      "41  42           43        104          -60             2791   \n",
      "42  43           44        175           60             2966   \n",
      "43  44           45         96          -51             3062   \n",
      "\n",
      "    aleks_running_sum  \n",
      "0                 110  \n",
      "1                 204  \n",
      "2                 318  \n",
      "3                 341  \n",
      "4                 370  \n",
      "5                 450  \n",
      "6                 494  \n",
      "7                 545  \n",
      "8                 641  \n",
      "9                 786  \n",
      "10                779  \n",
      "11                790  \n",
      "12                825  \n",
      "13                864  \n",
      "14                892  \n",
      "15                894  \n",
      "16                920  \n",
      "17               1018  \n",
      "18               1087  \n",
      "19               1144  \n",
      "20               1192  \n",
      "21               1290  \n",
      "22               1351  \n",
      "23               1484  \n",
      "24               1469  \n",
      "25               1477  \n",
      "26               1595  \n",
      "27               1636  \n",
      "28               1650  \n",
      "29               1714  \n",
      "30               1766  \n",
      "31               1870  \n",
      "32               1980  \n",
      "33               1981  \n",
      "34               1948  \n",
      "35               1905  \n",
      "36               1904  \n",
      "37               1920  \n",
      "38               2032  \n",
      "39               2081  \n",
      "40               2011  \n",
      "41               1951  \n",
      "42               2011  \n",
      "43               1960  \n"
     ]
    }
   ],
   "source": [
    "data = get_all_data()\n",
    "data = convert_fetched_data_to_df(data)\n",
    "print(data)"
   ]
  },
  {
   "cell_type": "code",
   "execution_count": 6,
   "metadata": {},
   "outputs": [
    {
     "name": "stdout",
     "output_type": "stream",
     "text": [
      "    jim_score  aleks_score\n",
      "0         -68          110\n",
      "1          83           94\n",
      "2         -62          114\n",
      "3         142           23\n",
      "4         112           29\n",
      "5         -54           80\n",
      "6          94           44\n",
      "7          59           51\n",
      "8          73           96\n",
      "9         100          145\n",
      "10         97           -7\n",
      "11         84           11\n",
      "12        -56           35\n",
      "13         58           39\n",
      "14         92           28\n",
      "15        118            2\n",
      "16        119           26\n",
      "17        -59           98\n",
      "18          4           69\n",
      "19         63           57\n",
      "20        104           48\n",
      "21         74           98\n",
      "22        112           61\n",
      "23         79          133\n",
      "24         94          -15\n",
      "25        119            8\n",
      "26         84          118\n",
      "27         12           41\n",
      "28        104           14\n",
      "29        104           64\n",
      "30        104           52\n",
      "31         64          104\n",
      "32          1          110\n",
      "33        101            1\n",
      "34        136          -33\n",
      "35         94          -43\n",
      "36        104           -1\n",
      "37         87           16\n",
      "38        -66          112\n",
      "39         88           49\n",
      "40         89          -70\n",
      "41        104          -60\n",
      "42        175           60\n",
      "43         96          -51\n"
     ]
    }
   ],
   "source": [
    "scores_df = data[['jim_score', 'aleks_score']]\n",
    "print(scores_df)"
   ]
  },
  {
   "cell_type": "markdown",
   "metadata": {},
   "source": [
    "# Descriptive Stats"
   ]
  },
  {
   "cell_type": "code",
   "execution_count": 12,
   "metadata": {},
   "outputs": [],
   "source": [
    "describe_res = scores_df.describe()\n",
    "mean_row = describe_res.loc[\"mean\"]\n",
    "jim_mean = mean_row['jim_score']\n",
    "aleks_mean = mean_row['aleks_score']"
   ]
  },
  {
   "cell_type": "code",
   "execution_count": 13,
   "metadata": {},
   "outputs": [
    {
     "data": {
      "text/plain": [
       "np.float64(69.5909090909091)"
      ]
     },
     "execution_count": 13,
     "metadata": {},
     "output_type": "execute_result"
    }
   ],
   "source": [
    "jim_mean"
   ]
  },
  {
   "cell_type": "code",
   "execution_count": 14,
   "metadata": {},
   "outputs": [
    {
     "data": {
      "text/plain": [
       "np.float64(44.54545454545455)"
      ]
     },
     "execution_count": 14,
     "metadata": {},
     "output_type": "execute_result"
    }
   ],
   "source": [
    "aleks_mean"
   ]
  },
  {
   "cell_type": "code",
   "execution_count": null,
   "metadata": {},
   "outputs": [],
   "source": []
  }
 ],
 "metadata": {
  "kernelspec": {
   "display_name": ".venv",
   "language": "python",
   "name": "python3"
  },
  "language_info": {
   "codemirror_mode": {
    "name": "ipython",
    "version": 3
   },
   "file_extension": ".py",
   "mimetype": "text/x-python",
   "name": "python",
   "nbconvert_exporter": "python",
   "pygments_lexer": "ipython3",
   "version": "3.12.3"
  }
 },
 "nbformat": 4,
 "nbformat_minor": 2
}
